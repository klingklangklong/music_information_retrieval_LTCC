{
  "cells": [
    {
      "cell_type": "markdown",
      "metadata": {
        "id": "iTnpGY7L903z"
      },
      "source": [
        "Clone the folder"
      ]
    },
    {
      "cell_type": "code",
      "execution_count": null,
      "metadata": {
        "id": "GXXLX75_pOMG"
      },
      "outputs": [],
      "source": [
        "!git clone https://klingklangklong:@github.com/klingklangklong/Listening_to_Climate_Change.git"
      ]
    },
    {
      "cell_type": "markdown",
      "metadata": {
        "id": "7PW2Oqhe92sP"
      },
      "source": [
        "Install dependencies"
      ]
    },
    {
      "cell_type": "code",
      "execution_count": null,
      "metadata": {
        "id": "LTKszf211t-u"
      },
      "outputs": [],
      "source": [
        "!pip install libfmp pretty_midi pypianoroll \n",
        "!pip install music21==7.3.1 "
      ]
    },
    {
      "cell_type": "markdown",
      "metadata": {
        "id": "NwD8wqmSLb36"
      },
      "source": [
        "Select the current directory"
      ]
    },
    {
      "cell_type": "code",
      "execution_count": 24,
      "metadata": {
        "id": "2s_3cdtj2RxX"
      },
      "outputs": [],
      "source": [
        "import os\n",
        "os.chdir(\"/content/Listening_to_Climate_Change\")"
      ]
    },
    {
      "cell_type": "markdown",
      "metadata": {
        "id": "03-b1_AQLgYT"
      },
      "source": [
        "I) Music information retrieval"
      ]
    },
    {
      "cell_type": "code",
      "execution_count": null,
      "metadata": {
        "id": "A0QBfzrw1kSw"
      },
      "outputs": [],
      "source": [
        "%run 'music_information_retrieval.py' --input_filename 'Rebel-Le Cahos.mid' --input_folder 'input_data' --output_folder 'output_data'"
      ]
    },
    {
      "cell_type": "markdown",
      "metadata": {
        "id": "YGSr5ccXLjST"
      },
      "source": [
        "II) Harmony generation"
      ]
    },
    {
      "cell_type": "code",
      "execution_count": null,
      "metadata": {
        "id": "vDF5N5g21mdE"
      },
      "outputs": [],
      "source": [
        "!python 'harmony_generation.py' --input_filename 'Rebel-Le Cahos.mid' --input_folder 'input_data' --output_folder 'output_data'"
      ]
    },
    {
      "cell_type": "markdown",
      "metadata": {
        "id": "aGjCDOG4LlFc"
      },
      "source": [
        "III) Motiv extraction"
      ]
    },
    {
      "cell_type": "code",
      "execution_count": null,
      "metadata": {
        "id": "Yzte9QyBWVgo"
      },
      "outputs": [],
      "source": [
        "!python 'motiv_extraction.py' --input_filename 'Rebel-Le Cahos.mid' --input_folder 'input_data' --output_folder 'output_data'"
      ]
    }
  ],
  "metadata": {
    "colab": {
      "collapsed_sections": [],
      "name": "LTCC - Github.ipynb",
      "provenance": []
    },
    "kernelspec": {
      "display_name": "Python 3",
      "name": "python3"
    },
    "language_info": {
      "name": "python"
    }
  },
  "nbformat": 4,
  "nbformat_minor": 0
}
